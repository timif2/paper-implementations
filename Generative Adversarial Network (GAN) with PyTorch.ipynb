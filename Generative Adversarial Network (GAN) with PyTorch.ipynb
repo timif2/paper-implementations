{
 "cells": [
  {
   "cell_type": "markdown",
   "metadata": {},
   "source": [
    "#  Generative Adversarial Networks implementation with PyTorch\n",
    "\n",
    "This projecct is an implementation of General Adversarial Networks (GAN). GANs leverage a two-player game between a generator and a discriminator to learn to generate realistic data samples. The generator learns to produce realistic samples, while the discriminator learns to distinguish between real and fake samples, leading to a competitive learning process that results in increasingly realistic generated samples. This uses the labml package, and is based off of code from labml."
   ]
  },
  {
   "cell_type": "code",
   "execution_count": 1,
   "metadata": {},
   "outputs": [],
   "source": [
    "from typing import Any\n",
    "import torch\n",
    "import torch.nn as nn\n",
    "import torch.utils.data\n",
    "import torch.utils.data\n",
    "\n",
    "from labml_helpers.module import Module"
   ]
  },
  {
   "cell_type": "markdown",
   "metadata": {},
   "source": [
    "## Discriminator Loss\n",
    "\n",
    "The discriminator has to **ascend** on the gradient,\n",
    "\n",
    "$$\\nabla_{\\theta_d} \\frac{1}{m} \\sum_{i=1}^m \\Bigg[\n",
    "    \\log D\\Big(\\pmb{x}^{(i)}\\Big) +\n",
    "    \\log \\Big(1 - D\\Big(G\\Big(\\pmb{z}^{(i)}\\Big)\\Big)\\Big)\n",
    "\\Bigg]$$\n",
    "\n",
    "$m$ is the mini-batch size and $(i)$ is used to index samples in the mini-batch.\n",
    "$\\pmb{x}$ are samples from $p_{data}$ and $\\pmb{z}$ are samples from $p_z$.\n"
   ]
  },
  {
   "cell_type": "markdown",
   "metadata": {},
   "source": [
    "\n",
    "`logits_true` are logits from $D(\\pmb{x}^{(i)})$ and\n",
    "`logits_false` are logits from $D(G(\\pmb{z}^{(i)}))$\n"
   ]
  },
  {
   "cell_type": "code",
   "execution_count": 2,
   "metadata": {},
   "outputs": [],
   "source": [
    "class DiscriminatorLogitsLoss(Module):\n",
    "\n",
    "    def __init__(self, smoothing: float = 0.2):\n",
    "        super().__init__()\n",
    "  \n",
    "        self.loss_true = nn.BCEWithLogitsLoss()\n",
    "        self.loss_false = nn.BCEWithLogitsLoss()\n",
    "\n",
    "        # We use label smoothing because it seems to work better in some cases\n",
    "        self.smoothing = smoothing\n",
    "\n",
    "        # Labels are registered as buffered and persistence is set to `False`.\n",
    "        self.register_buffer('labels_true', _create_labels(256, 1.0 - smoothing, 1.0), False)\n",
    "        self.register_buffer('labels_false', _create_labels(256, 0.0, smoothing), False)\n",
    "\n",
    "    def forward(self, logits_true: torch.Tensor, logits_false: torch.Tensor):\n",
    "      \n",
    "        if len(logits_true) > len(self.labels_true):\n",
    "            self.register_buffer(\"labels_true\",\n",
    "                                 _create_labels(len(logits_true), 1.0 - self.smoothing, 1.0, logits_true.device), False)\n",
    "        if len(logits_false) > len(self.labels_false):\n",
    "            self.register_buffer(\"labels_false\",\n",
    "                                 _create_labels(len(logits_false), 0.0, self.smoothing, logits_false.device), False)\n",
    "\n",
    "        return (self.loss_true(logits_true, self.labels_true[:len(logits_true)]),\n",
    "                self.loss_false(logits_false, self.labels_false[:len(logits_false)]))"
   ]
  },
  {
   "cell_type": "markdown",
   "metadata": {},
   "source": [
    "## Generator Loss\n",
    "\n",
    "Generator should **descend** on the gradient,\n",
    "\n",
    "$$\\nabla_{\\theta_g} \\frac{1}{m} \\sum_{i=1}^m \\Bigg[\n",
    "    \\log \\Big(1 - D\\Big(G\\Big(\\pmb{z}^{(i)}\\Big)\\Big)\\Big)\n",
    "\\Bigg]$$"
   ]
  },
  {
   "cell_type": "code",
   "execution_count": 4,
   "metadata": {},
   "outputs": [],
   "source": [
    "class GeneratorLogitsLoss(Module):\n",
    "\n",
    "    def __init__(self, smoothing: float = 0.2):\n",
    "        super().__init__()\n",
    "        self.loss_true = nn.BCEWithLogitsLoss()\n",
    "        self.smoothing = smoothing\n",
    "        # We use labels equal to $1$ for $\\pmb{x}$ from $p_{G}.$\n",
    "        # Then descending on this loss is the same as descending on\n",
    "        # the above gradient.\n",
    "        self.register_buffer('fake_labels', _create_labels(256, 1.0 - smoothing, 1.0), False)\n",
    "\n",
    "    def forward(self, logits: torch.Tensor):\n",
    "        if len(logits) > len(self.fake_labels):\n",
    "            self.register_buffer(\"fake_labels\",\n",
    "                                 _create_labels(len(logits), 1.0 - self.smoothing, 1.0, logits.device), False)\n",
    "\n",
    "        return self.loss_true(logits, self.fake_labels[:len(logits)])"
   ]
  },
  {
   "cell_type": "code",
   "execution_count": 5,
   "metadata": {},
   "outputs": [],
   "source": [
    "def _create_labels(n: int, r1: float, r2: float, device: torch.device = None):\n",
    "    return torch.empty(n, 1, requires_grad=False, device=device).uniform_(r1, r2)"
   ]
  }
 ],
 "metadata": {
  "kernelspec": {
   "display_name": "Python 3",
   "language": "python",
   "name": "python3"
  },
  "language_info": {
   "codemirror_mode": {
    "name": "ipython",
    "version": 3
   },
   "file_extension": ".py",
   "mimetype": "text/x-python",
   "name": "python",
   "nbconvert_exporter": "python",
   "pygments_lexer": "ipython3",
   "version": "3.8.5"
  }
 },
 "nbformat": 4,
 "nbformat_minor": 4
}
